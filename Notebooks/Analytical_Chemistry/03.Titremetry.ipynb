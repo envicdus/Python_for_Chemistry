{
 "cells": [
  {
   "cell_type": "markdown",
   "metadata": {},
   "source": [
    "format:\n",
    "  html:\n",
    "    embed-resources: false\n",
    "    fig-width: 9\n",
    "    fig-height: 6\n",
    "    html-math-method:\n",
    "        method: mathjax\n",
    "        url: \"https://cdn.jsdelivr.net/npm/mathjax@3/es5/tex-mml-chtml.js\"\n",
    "jupyter: python3\n",
    "code-fold: true\n",
    "code-overflow: wrap"
   ]
  }
 ],
 "metadata": {
  "language_info": {
   "name": "python"
  }
 },
 "nbformat": 4,
 "nbformat_minor": 2
}
